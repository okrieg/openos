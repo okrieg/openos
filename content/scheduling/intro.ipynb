{
 "cells": [
  {
   "cell_type": "markdown",
   "id": "1849611c-6ebb-404c-a273-ba5fda65da03",
   "metadata": {},
   "source": [
    "```{warning}\n",
    "This portion of the book is under construction, not ready to be read\n",
    "```"
   ]
  },
  {
   "cell_type": "markdown",
   "id": "a068f731-912d-423f-8c58-cdb9fb5343ae",
   "metadata": {},
   "source": [
    "(cont:scheduling)=\n",
    "# Introduction\n",
    "\n",
    "We are going to discuss the various methods used by the operating system to allow multiple programs to execute on a computer while giving each the illusion it has the entire computer to itself. But before we get to discussing scheduling algorithms, we need to define a few terms we will use in that discussion. The terms *program* and *process* are often used inter-changeably, but we will distinguish them and only use them according to our individual definitions. Recall when we discussed abstracting hardware {ref}`cont:gs:purpose:platform:abs`, we drew the distinction between the contents of the executable stored on disk (the program) from an execution of those contents (a process). In this chapter we will briefly introduce the problem solved by scheduling and then dive into how it happens.\n",
    "\n",
    "Consider a very simple computer with a single processor and some memory. If we have a single user who only wants to run a single instance of a program on that processor, we are able to meet the user's need. However, this model isn't very useful because if we introduce a second user or a second task, we need a way to ensure that all users can run the processes they need. Without help from an operating system, the users would have to coordinate time for using this computer. This coordination gives users good control over when their process runs, but does not handle conflicts or changes well. What if the user scheduled to use the computer misses their appointment? The hardware is left idle and that user's process still needs to run.\n",
    "\n",
    "As with other resources managed by an operating system, we solve the scheduling problem by *virtualizing* the processor or CPU. As with memory, this virtualization of the resource allows the operating system to provide the illusion of an infinite number of CPUs on which a process can run. \n",
    "\n",
    "For the remainder of this chapter we will discuss what a process is and how we can virtualize the CPU. Next we will look at *threads* and how they differ from a process. Finally, we will end with a look at the methods for scheduling processes or threads."
   ]
  }
 ],
 "metadata": {
  "kernelspec": {
   "display_name": "Python 3.10.0 64-bit",
   "language": "python",
   "name": "python3"
  },
  "language_info": {
   "codemirror_mode": {
    "name": "ipython",
    "version": 3
   },
   "file_extension": ".py",
   "mimetype": "text/x-python",
   "name": "python",
   "nbconvert_exporter": "python",
   "pygments_lexer": "ipython3",
   "version": "3.10.0"
  },
  "vscode": {
   "interpreter": {
    "hash": "98590ff4fe04c8543246b2a01debd3de3c5ca9b666f43f1fa87d5110c692004c"
   }
  }
 },
 "nbformat": 4,
 "nbformat_minor": 5
}
