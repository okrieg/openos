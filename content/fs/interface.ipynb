{
 "cells": [
  {
   "cell_type": "code",
   "execution_count": null,
   "id": "5f2b37de-746b-4da8-9472-542e1d33e245",
   "metadata": {
    "tags": [
     "remove-cell",
     "remove-input",
     "hide-output"
    ]
   },
   "outputs": [],
   "source": [
    "%run -i ../python/common.py\n",
    "publish=False\n",
    "\n",
    "if not publish:\n",
    "    # cleanup any old state\n",
    "    bashCmds('''[[ -d mydir ]] && rm -rf mydir\n",
    "    [[ -a /tmp/foo ]] && rm -rf /tmp/foo\n",
    "    [[ -a errors ]] && rm errors \n",
    "    [[ -a mydate ]] && rm mydate\n",
    "    [[ -a mynewdir ]] && rm -rf mynewdir\n",
    "    [[ -a anotherfile ]] && rm anotherfile\n",
    "    [[ -a mybin ]] && rm -rf  mybin\n",
    "    [[ -a myinfo ]] && rm myinfo''')\n",
    "else:\n",
    "    bashCmds('''rm -rf ~/*''')\n",
    "    \n",
    "closeAllOpenTtySessions()\n",
    "\n",
    "generated=\"~/myfile ~/errors ~/mydate ~/mydir ~/mynewdir ~/out\"\n"
   ]
  },
  {
   "cell_type": "code",
   "execution_count": null,
   "id": "d56874ad-b657-451b-a129-e915c62b7fba",
   "metadata": {
    "tags": [
     "remove-input",
     "hide-output"
    ]
   },
   "outputs": [],
   "source": [
    "appdir=os.getenv('HOME')\n",
    "appdir=appdir + \"/fslec1\"\n",
    "TermShellCmd(\"ls \")\n",
    "output=runTermCmd(\"[[ -d \" + appdir + \" ]] &&  rm -rf \"+ appdir + \n",
    "             \";cp -r ../src/fslec1 \" + appdir)\n",
    "bash = BashSession(cwd=appdir)"
   ]
  },
  {
   "cell_type": "markdown",
   "id": "2b51a1d2-d2ef-4ab3-a1ec-5949f3c75612",
   "metadata": {},
   "source": [
    "(cont:fs:interface)= \n",
    "# File System Abstraction"
   ]
  },
  {
   "cell_type": "markdown",
   "id": "9e4096c0-f631-4f58-9416-048946082adb",
   "metadata": {},
   "source": [
    "From a user perspective, file systems support:\n",
    "\n",
    "- a *name space*, the set of names that identify objects;\n",
    "- *objects* such as the files themselves as well as directories and other supporting objects;\n",
    "- *operations* on these objects.\n",
    "\n",
    "We first describe how naming works in a Unix file system, then some of the core objects and how they are identified, and then the operations a process can perform on those objects. \n",
    "\n"
   ]
  },
  {
   "cell_type": "markdown",
   "id": "06c9f991-92d9-489c-a66b-c6f6a6155555",
   "metadata": {
    "tags": []
   },
   "source": [
    "## Naming\n",
    "\n",
    "[^hier]: Very early file systems sometimes had a single flat directory per user, or like MS-DOS 1.0, a single directory per floppy disk\n",
    "\n",
    "Most file systems today support a\n",
    "tree-structured namespace[^hier], as shown in {numref}`fs:tree-logical`. \n",
    "This tree is constructed via the use of\n",
    "*directories*, or objects in the namespace which map strings to further\n",
    "file system objects. A full filename thus specifies a *path* from the\n",
    "root, through the tree, to the object (a file or directory) itself.\n",
    "(Hence the use of the term \"path\" to mean \"filename\" in Unix\n",
    "documentation.)\n",
    "\n",
    "```{figure} ../images/pb-figures/fs/filesys-tree.png\n",
    "---\n",
    "width: 70%\n",
    "name: fs:tree-logical\n",
    "---\n",
    "Logical view: hierarchical file system name space\n",
    "```\n",
    "\n",
    "\n",
    "\n",
    "Each process has an associated *current directory*, which may be changed via the `chdir` system call. File names beginning with '`/`' are termed *absolute* names, and are interpreted relative to the root of the naming tree, while *relative* names are\n",
    "interpreted beginning at the current directory. Thus in the file system in\n",
    "{numref}`fs:tree-logical`, if the current directory were `/home`,\n",
    "the the paths `pjd/.profile` and `/home/pjd/.profile` refer to the same\n",
    "file, and `../bin/cat` and `/bin/cat` refer to the same file.\n",
    "\n",
    "Each directory also contains two special files ```.``` and ```..```, where `d/..`  identifies the parent directory of `d`, and `d/.` identifies `d`\n",
    "itself.  "
   ]
  },
  {
   "cell_type": "markdown",
   "id": "b7cb6634-ca06-48fb-a3ba-3e2e3628a045",
   "metadata": {},
   "source": [
    "A typical system may provide access to\n",
    "several file systems at once, e.g., a local disk and an external USB\n",
    "drive or network volume. In order to unambiguously specify a file we\n",
    "thus need to both identify the file within possibly nested directories\n",
    "in a single file system, as well as identifying the file system itself.\n",
    "Unix enables a file system to be *mounted* onto a directory in\n",
    "another file system, giving a single uniform namespace.  For example, on the systems you are using, there is an *ext4* file system mounted in the root file system at ```/opt/app-root/src```, which you can see if you use the mount command to list all the file systems mounted on this computer."
   ]
  },
  {
   "cell_type": "code",
   "execution_count": null,
   "id": "39f46945-0686-42b9-8072-84580ebc4350",
   "metadata": {
    "tags": [
     "remove-input"
    ]
   },
   "outputs": [],
   "source": [
    "bash.run(\"mount | grep ext4\")"
   ]
  },
  {
   "cell_type": "markdown",
   "id": "a58fc508-ff8b-44b4-b012-3904e873e06f",
   "metadata": {},
   "source": [
    "The actual implementation of mounting in Linux and other Unix-like\n",
    "systems is implemented via a *mount table*, a small table in the kernel\n",
    "mapping directories to directories on other file systems. As the\n",
    "kernel translates a pathname it checks each directory in this table; if\n",
    "found, it substitutes the mapped file system and directory before\n",
    "searching for an entry. Thus before searching \"/opt/app-root/src\" on  for the entry \"foo\", the kernel will substitute the\n",
    "top-level directory on the mounted ext4 files system then search for \"foo\".\n",
    "\n",
    "For a more thorough explanation of path translation in Linux and other\n",
    "Unix systems see the `path_resolution(7)` man page, i.e. type `man path_resolution`."
   ]
  },
  {
   "cell_type": "markdown",
   "id": "62ed29f1-87e1-4dd3-8bc7-6c4e1ce3fdd0",
   "metadata": {
    "tags": []
   },
   "source": [
    "## Objects\n",
    "\n",
    "```{sidebar} So, why is it called an inode? Dennis Ritchie, who was one of the authors of UNIX, gave this enlightened answer to the Linux kernel mailing list in 2002:\n",
    "> In truth, I don't know either. It was just a term that we started to use. \"Index\" is my best guess, because of the slightly unusual file system structure that stored the access information of files as a flat array on the disk, with all the hierarchical directory information living aside from this. Thus the i-number is an index in this array, the i-node is the selected element of the array.\n",
    "<p style='text-align: right;'> ---Dennis Ritchie, <a href='https://lkml.indiana.edu/hypermail/linux/kernel/0207.2/1182.html'>[LKML 2002]</a></p>\n",
    "```\n",
    "\n",
    "Once you use a pathname to find an object in the file system, you need to find out what kind of an object you have found.  Each file is identified in the file system by a unique **inode number** that references an **inode** data structure that maintains all kinds of information, or *meta-data* about the file (try ```man inode``` for more information).   While the inode itself is internal to the file system, and contains additional information, generic information can be obtained for any file as described [below](cont:fs:calls:naming).  One of the fields in an inode identifies the type of object that the inode refers to. The types of objects that can be referenced by inode are shown in {numref}`file_types`. "
   ]
  },
  {
   "cell_type": "markdown",
   "id": "1381186a-4c59-41b3-b0f6-d6f94e11aa5a",
   "metadata": {
    "tags": [
     "remove-cell",
     "hide-output",
     "remove-input"
    ]
   },
   "source": [
    "<a id=\"file_types\"></a>\n",
    "<center><em>Types of objects in a file system</em></center>\n",
    "\n",
    "| Name | Value  | Purpose |\n",
    "| :--------------: | ------------- | ---------------------- |\n",
    "| regular file | S_IFREG| A regular file normally used to store data |\n",
    "| directory | S_IFDIR | A special file used to contain files or other directories |\n",
    "| symbolic link | S_IFLNK | A kind of “file” that is essentially a pointer to another file name |\n",
    "| block device | S_IFBLK | A device that like a disk that is accessed by reading and writing blocks |\n",
    "| character device | S_IFCHR | A charter device like a `tty` |\n",
    "| FIFO | S_IFIFO | A pipe |\n",
    "| socket | S_IFSOCK | A socket used for networking |"
   ]
  },
  {
   "cell_type": "markdown",
   "id": "c45eed6d-34df-40da-8793-b7dd6799bfdc",
   "metadata": {
    "tags": []
   },
   "source": [
    "```{list-table} Types of objects in a file system. \n",
    ":header-rows: 1\n",
    ":name: file_types\n",
    ":widths: 6 5 10\n",
    ":width: 4in\n",
    "\n",
    "* - Name \n",
    "  - Value \n",
    "  - Purpose\n",
    "* - regular file\n",
    "  - S_IFREG\n",
    "  - A regular file normally used to store data\n",
    "* - directory\n",
    "  - S_IFDIR\n",
    "  - A special file used to contain files or other directories\n",
    "* - symbolic link\n",
    "  - S_IFLNK\n",
    "  - A kind of “file” that is essentially a pointer to another file name\n",
    "* - block device\n",
    "  - S_IFBLK\n",
    "  - A device that like a disk that is accessed by reading and writing blocks\n",
    "* - character device\n",
    "  - S_IFCHR\n",
    "  - A charter device like a `tty`\n",
    "* - FIFO\n",
    "  - S_IFIFO\n",
    "  - A pipe\n",
    "* - socket\n",
    "  - S_IFSOCK\n",
    "  - A socket used for networking\n",
    "```\n",
    " \n",
    "[^eff]: it is probably not a\n",
    "coincidence that Unix arrived at the same time as computers which dealt\n",
    "only with multiples of 8-bit bytes (e.g. 16 and 32-bit words), replacing\n",
    "older systems which frequently used odd word sizes such as 36 bits.\n",
    "(Note that a machine with 36-bit instructions already needs two\n",
    "incompatible types of files, one for text and one for executable code.)\n",
    "\n",
    "[^simple]: This is the case for almost all operating systems today, but... of course there are exceptions.  Apple OSX uses resource forks to store information associated with a file (HFS and HFS+ file systems only), Windows NTFS provides for multiple data streams in single file, although they were never put to use, and several file systems support file attributes, which are small tags associated with a file.\n",
    "\n",
    "The last four are special files that you can connect into a file system.  The first three are core objects for all file systems. \n",
    "\n",
    "### Files\n",
    "\n",
    "In keeping with the idea that everything is a file, Unix made all files just a sequence of 8-bit bytes[^eff][^simple]. Any\n",
    "structure to the file (such as a JPEG image, an executable program, or a\n",
    "database) is the responsibility of applications which read and write the\n",
    "file. The file format is commonly indicated by a file extension like\n",
    ".jpg or .xml, but this is just a convention followed by applications and\n",
    "users. You can do things like rename file.pdf to file.jpg, which will\n",
    "confuse some applications and users, but it will have no effect on the file\n",
    "contents.\n",
    "\n",
    "Data in a byte-sequence file is identified by the combination of the\n",
    "file and its offset (in bytes) within the file. Unlike in-memory objects\n",
    "in an application, where a reference (pointer) to a component of an\n",
    "object may be passed around independently, a portion of a file cannot be\n",
    "named without identifying the file it is contained in. Data in a file\n",
    "can be created by a `write` which appends more data to the end of a\n",
    "shorter file, and modified by over-writing in the middle of a file.\n",
    "However, it can't be \"moved\" from one offset to another: if you use a\n",
    "text editor to add or delete text in the middle of a file, the editor\n",
    "must re-write the entire file (or at least from the modified part to the\n",
    "end).\n",
    "\n",
    "```{figure} ../images/pb-figures/fs/filesys-tree2.png\n",
    "---\n",
    "width: 70% \n",
    "name: fs:tree-imp\n",
    "---\n",
    "Implementation view: hierarchical file system name space. Gray blocks are directories that contain entries with strings and corresponding inode numbers that identify the files.\n",
    "```\n",
    "\n",
    "(cont:fs:interface:dir)= \n",
    "### Directory\n",
    "\n",
    "As shown in {numref}`fs:tree-imp`, a directory contains entries with strings that identify objects contained in the directory, and for each the inode numbers that can then be used to find out more information about the corresponding object.   The same inode can be referenced by multiple directories, with potentially different names. Each directory entry that maps a name to an inode number is called a *hard link* to the inode, and another field in the inode structure records the number of hard links to that inode.  For example, the entry named ```..``` in any directory is a hard link to the parent directory. To illustrate this point, let's create a directory named `foo` in the `/tmp` directory and see how the link count for `foo` changes when we create a subdirectory `bar` inside foo.\n",
    "\n",
    "\n",
    "% an attempt to put side by side; didn't work\n",
    "% :::{figure-md} fig:filesys:tree\n",
    "% ![alt](../images/pb-figures/fs/filesys-tree.png) ![alt](../images/pb-figures/fs/filesys-tree2.png)\n",
    "% \n",
    "% Logical (left) and implementation (right) view of a hierarchical file system name space.\n",
    "% :::"
   ]
  },
  {
   "cell_type": "code",
   "execution_count": null,
   "id": "ec4adc5d-1510-4757-a5e9-a236048eb10c",
   "metadata": {
    "tags": [
     "remove-input"
    ]
   },
   "outputs": [],
   "source": [
    "bash.run(\"mkdir /tmp/foo; ls -al /tmp/foo; mkdir /tmp/foo/bar ; ls -al /tmp/foo\")"
   ]
  },
  {
   "cell_type": "markdown",
   "id": "db3c27cf-9cb3-418c-81e8-32668b5a50a7",
   "metadata": {},
   "source": [
    "As we can see, after creating a directory `/tmp/foo` the reference count (second entry in the output above) for the ```.``` in `foo` is 2 before we create a subdirectory  `bar` in it, and 3 after. The initial two links come from the parent directory's entry named `foo`, and the `.` entry in `foo` itself. After the creation of `bar`, there is a third link to the inode for `foo` due to the `..` entry in `bar`, which refers to its parent directory. \n",
    "\n",
    "The link count in an inode ensures that the object the inode refers to (file or directory) will not be deleted as long as there is at least one hard link to the inode. When you issue a delete command for a filename (e.g., 'rm somefile'), the file system removes the entry for the filename from a directory and decrements the link count on the inode that entry referred to. Only when the last hard link is removed will the file object really be freed. "
   ]
  },
  {
   "cell_type": "markdown",
   "id": "3928ce66-d20d-4f52-af4a-18b59919e559",
   "metadata": {},
   "source": [
    "### Symbolic links\n",
    "\n",
    "The third file system object is a\n",
    "*symbolic link*. This holds a text string which is interpreted as a\n",
    "\"pointer\" to another location in the file system. When the kernel is\n",
    "searching for a file and encounters a symbolic link, it substitutes this\n",
    "text into the current portion of the path, and continues the translation\n",
    "process.\n",
    "\n",
    "This can be very useful \n",
    "\n",
    "<pre>\n",
    "directory: /usr/program-1.0.1\n",
    "  file:      /usr/program-1.0.1/file.txt\n",
    "  sym link:  /usr/program-current -> \"program-1.0.1\"\n",
    "</pre>\n",
    "\n",
    "and if the OS is looking up the file `/usr/program-current/file.txt`, it\n",
    "will:\n",
    "\n",
    "1. look up `usr` in the root directory, finding a pointer to the `/usr`\n",
    "directory\n",
    "2. look up `program-current` in `/usr`, finding the link with contents\n",
    "`program-1.0.1`\n",
    "\n",
    "3. look up `program-1.0.1` and use this result instead of the result from\n",
    "looking up `program-current`, getting a pointer to the\n",
    "`/usr/program-1.0.1` directory.\n",
    "\n",
    "4. look up `file.txt` in this directory, and find it.\n",
    "\n",
    "\n",
    "Note that unlike hard links, a symbolic link does not increase the link count in the inode that it refers to. As a result, a symbolic link may be \"broken\"---i.e., if\n",
    "the file it points to does not exist. This can happen if the link was\n",
    "created in error, or the file or directory it points to is deleted\n",
    "later. In that case path translation will fail with an error:"
   ]
  },
  {
   "cell_type": "code",
   "execution_count": null,
   "id": "82a792dd-f18b-43e3-aa85-ca88b9f71643",
   "metadata": {
    "tags": [
     "remove-input"
    ]
   },
   "outputs": [],
   "source": [
    "bash.run('''ln -s /bad/file/name bad-link\n",
    "ls -l bad-link\n",
    "cat bad-link''')"
   ]
  },
  {
   "cell_type": "markdown",
   "id": "9eabca64-d367-4838-8181-f512cf44c65b",
   "metadata": {
    "tags": [
     "remove-cell",
     "remove-input",
     "hide-output"
    ]
   },
   "source": [
    "<pre>\n",
    "pjd-1:tmp pjd$ ln -s /bad/file/name bad-link\n",
    "pjd-1:tmp pjd$ ls -l bad-link \n",
    "lrwxr-xr-x  1 pjd  wheel  22 Aug  2 00:07 bad-link -> /bad/file/name\n",
    "pjd-1:tmp pjd$ cat bad-link\n",
    "cat: bad-link: No such file or directory\n",
    "</pre>"
   ]
  },
  {
   "cell_type": "markdown",
   "id": "a4dd913e-432e-45fa-a8ae-e90ed0f5ad23",
   "metadata": {},
   "source": [
    "Finally, to prevent loops there is a limit on how many levels of\n",
    "symbolic link may be traversed in a single path translation:"
   ]
  },
  {
   "cell_type": "markdown",
   "id": "e5bec29e-eb58-4f63-90e9-2039e91a65be",
   "metadata": {
    "tags": [
     "remove-cell",
     "remove-input",
     "hide-output"
    ]
   },
   "source": [
    "<pre>\n",
    "pjd@pjd-fx:/tmp$ ln -s loopy loopy\n",
    "pjd@pjd-fx:/tmp$ ls -l loopy\n",
    "lrwxrwxrwx 1 pjd pjd 5 Aug 24 04:25 loopy -> loopy\n",
    "pjd@pjd-fx:/tmp$ cat loopy\n",
    "cat: loopy: Too many levels of symbolic links\n",
    "pjd@pjd-fx:/tmp$ \n",
    "</pre>"
   ]
  },
  {
   "cell_type": "code",
   "execution_count": null,
   "id": "d9960ebd-fc1f-4e8d-9c0d-c17ba0722bf4",
   "metadata": {
    "tags": [
     "remove-input"
    ]
   },
   "outputs": [],
   "source": [
    "bash.run('''ln -s loopy loopy\n",
    "ls -l loopy\n",
    "cat loopy''')"
   ]
  },
  {
   "cell_type": "markdown",
   "id": "8317650c-014d-4c49-adef-84568f2769ee",
   "metadata": {
    "tags": []
   },
   "source": [
    "(cont:fs:interface:operations)=\n",
    "## File System Operations:\n",
    "\n",
    "There are several common types of file operations supported by Linux\n",
    "(and with slight differences, Windows). They can be classified into\n",
    "three main categories: open/close, read/write, and naming and\n",
    "directories.\n",
    "\n",
    "### Open/close\n",
    "\n",
    "In order to access a file in Linux (or most operating\n",
    "systems) you first need to open the file, passing the file name and\n",
    "other parameters and receiving a *handle* (called a *file descriptor* in\n",
    "Unix) which may be used for further operations. The corresponding system\n",
    "calls are:\n",
    "\n",
    "- `int desc = open(name, O_READ)`: Verify that file `name` exists and may\n",
    "be read, and then return a *descriptor* which may be used to refer to\n",
    "that file when reading it.\n",
    "\n",
    "- `int desc = open(name, O_WRITE | flags, mode)`: Verify permissions and\n",
    "open `name` for writing, creating it (or erasing existing contents) if\n",
    "necessary as specified in `flags`. Returns a descriptor which may be\n",
    "used for writing to that file.\n",
    "\n",
    "- `close(desc)`: stop using this descriptor, and free any resources\n",
    "allocated for it.\n",
    "\n",
    "\n",
    "Note that application programs rarely use the system calls themselves to\n",
    "access files, but instead use higher-level frameworks, ranging from Unix\n",
    "Standard I/O to high-level application frameworks."
   ]
  },
  {
   "cell_type": "markdown",
   "id": "3c1ec059-15f5-4286-874f-30fe7b4e0ad4",
   "metadata": {
    "tags": []
   },
   "source": [
    "#### Read/Write operations\n",
    "\n",
    "To get a file with data in it, you need to write it; to use that data you need to read it. To enable files to be accessed as a *stream* just like from a terminal or pipe, UNIX uses the concept of a *current position*\n",
    "associated with a file descriptor. When you read 100 bytes (i.e. bytes 0\n",
    "to 99) from a file, this pointer advances by 100 bytes, so that the next\n",
    "read will start at byte 100, and similarly for write. When a file is\n",
    "opened for reading the pointer starts at 0; when open for writing the\n",
    "application writer can choose to start at the beginning (default) and\n",
    "overwrite old data, or start at the end (`O_APPEND` flag) to append new\n",
    "data to the file.\n",
    "\n",
    "The read and write routines are the same ones we described before, but, for ease of reference, they are:\n",
    "\n",
    "- `n = read(desc, buffer, max)`: Read `max` bytes (or fewer if the end of\n",
    "the file is reached) into `buffer`, starting at the current position,\n",
    "and returning the actual number of bytes `n` read; the current position\n",
    "is then incremented by `n`.\n",
    "\n",
    "- `n = write(desc, buffer, len)`: Write `len` bytes from `buffer` into\n",
    "the file, starting at the current position, and incrementing the current\n",
    "position by `len`.\n",
    "\n",
    "- `lseek(desc, offset, flag)`: Set an open file's current position to that\n",
    "specified by `offset` and `flag`, which specifies whether `offset` is\n",
    "relative to the beginning, end, or current position in the file.\n",
    "\n",
    "[^pread]: On Linux the `pread` and `pwrite` system calls allow specifying an\n",
    "    offset for the read or write; other UNIX-derived operating systems\n",
    "    have their own extensions for this purpose.\n",
    "\n",
    "\n",
    "Note that in the basic Unix interface (unlike e.g. Windows) there is no\n",
    "way to specify a particular location in a file to read or write\n",
    "from[^pread]. Programs like databases (e.g. SQLite, MySQL) which need to\n",
    "write to and read from arbitrary file locations must instead move the\n",
    "current position by using `lseek` before a read or write. However, most\n",
    "programs either read or write a file from the beginning to the end\n",
    "(especially when written for an OS that makes it easier to do things\n",
    "that way), and thus don't really need to perform seeks. Because most\n",
    "Unix programs use simple \"stream\" input and output, these may be\n",
    "re-directed so that the same program can---without any special\n",
    "programming---read from or write to a terminal, a network connection, a\n",
    "file, or a pipe from or to another program.\n",
    "\n",
    "[^hardlink]: A hard link is an additional directory entry pointing to the same\n",
    "    file, giving the file two (or more) names. Hard links are peculiar\n",
    "    to Unix, and in modern systems have mostly been replaced with\n",
    "    symbolic links (covered above); however Apple's Time Machine makes\n",
    "    very good use of them: multiple backups can point to the same single\n",
    "    copy of an un-modified file using hard links.\n",
    "\n",
    "[^unlink]: Even when the reference count goes to zero, the file might not be removed yet - on Unix, if you\n",
    "    delete an open file it won't actually be removed until all open file\n",
    "    handles are closed.. In general, deleting open files is a problem:\n",
    "    while Unix solves the problem by deferring the actual delete,\n",
    "    Windows solves it by protecting open files so that they cannot be\n",
    "    deleted.\n",
    "\n",
    "(cont:fs:calls:naming)= \n",
    "### Naming and Directories\n",
    "\n",
    "In Unix there is a difference between a name\n",
    "(a directory entry) and the object (file or directory) that the name\n",
    "points to. The naming and directories operations are:\n",
    "\n",
    "- `rename(path1, path2)` - Rename an object (i.e., a file or directory) by\n",
    "either changing the name in its directory entry (if the destination is\n",
    "in the same directory) or creating a new entry and deleting the old one\n",
    "(if moving into a new directory).\n",
    "\n",
    "- `link(path1, path2)`: Add a *hard link* to a file[^hardlink].\n",
    "\n",
    "- `unlink(path)`: Decrement the reference count to a file, if it goes to zero, delete the file[^unlink].\n",
    "\n",
    "- `desc = opendir(path)`, `readdir(desc, dirent*), dirent=(name,type,length)`: This interface allows a program to enumerate names in a directory, and determine their type (i.e., file, directory, symbolic link, or special-purpose file).\n",
    "\n",
    "- `stat(file, statbuf)`, `fstat(desc, statbuf)`:  returns information about the file such as  size, owner, permissions, modification time, etc. These are attributes of the file itself, residing in the inode and returned in the following structure.\n",
    "\n",
    "```c\n",
    "struct stat {\n",
    "  dev_t     st_dev;         /* ID of device containing file */\n",
    "  ino_t     st_ino;         /* Inode number */\n",
    "  mode_t    st_mode;        /* File type and mode */\n",
    "  nlink_t   st_nlink;       /* Number of hard links */\n",
    "  uid_t     st_uid;         /* User ID of owner */\n",
    "  gid_t     st_gid;         /* Group ID of owner */\n",
    "  dev_t     st_rdev;        /* Device ID (if special file) */\n",
    "  off_t     st_size;        /* Total size, in bytes */\n",
    "  blksize_t st_blksize;     /* Block size for filesystem I/O */\n",
    "  blkcnt_t  st_blocks;      /* Number of 512B blocks allocated */\n",
    "  struct timespec st_atim;  /* Time of last access */\n",
    "  struct timespec st_mtim;  /* Time of last modification */\n",
    "  struct timespec st_ctim;  /* Time of last status change */\n",
    "};\n",
    "```\n",
    "\n",
    "- `mkdir(path)`, `rmdir(path)`: directory operations: create a new, empty directory, or delete an empty directory."
   ]
  },
  {
   "cell_type": "markdown",
   "id": "0b83dcec-aa54-4b81-afc8-8e9aa00b166a",
   "metadata": {
    "tags": [
     "remove-input"
    ]
   },
   "source": [
    "## Some examples\n",
    "\n",
    "Consider the following program in {numref}`filecopy_listing`, which copies one file to another.  After opening the input file (line 26) we stat the input file to get the permissions (i.e., the mode), create a file with that mode (line 37), and then go into a loop reading data from the input file into a buffer, and then writing the buffer to the output file. \n",
    "\n",
    "```{literalinclude} /src/fslec1/fcopy2.c\n",
    "---\n",
    "linenos:\n",
    "emphasize-lines: 26, 37, 43, 44, 51\n",
    "caption: fcopy2.c - An example program that copies one file to another using the file system interface.\n",
    "name: filecopy_listing\n",
    "---\n",
    "```"
   ]
  },
  {
   "cell_type": "code",
   "execution_count": null,
   "id": "1096be45-9d04-4015-b706-d22b3dc4104e",
   "metadata": {
    "tags": [
     "remove-input",
     "remove-cell",
     "hide-output"
    ]
   },
   "outputs": [],
   "source": [
    "display(Markdown('<font size=\"1.2rem\">' + FileCodeBox(\n",
    "    file=appdir + \"/fcopy2.c\", \n",
    "    lang=\"\", \n",
    "    number=True,\n",
    "    title=\"<b> An example program that copies one file to another: fcopy2.c </b>\",\n",
    "    h=\"100%\", \n",
    "    w=\"100%\"\n",
    ") + '</font>'))\n",
    "#TermShellCmd(\"[[ -a fcopy2 ]] && rm fcopy2; make fcopy2\", cwd=appdir, prompt='', noposttext=True)\n",
    "#TermShellCmd(\"./fcopy2 README.md rm2\", cwd=appdir)"
   ]
  },
  {
   "cell_type": "code",
   "execution_count": null,
   "id": "778fdcc2-c809-4db2-bfa9-cd2e55ac59b1",
   "metadata": {
    "tags": [
     "remove-input"
    ]
   },
   "outputs": [],
   "source": [
    "bash.runNoOutput(\"[[ -a fcopy2 ]] && rm fcopy2; make fcopy2\")\n",
    "bash.run(\"./fcopy2 README.md rm2\")"
   ]
  },
  {
   "cell_type": "markdown",
   "id": "66c0a0bc-8386-4ede-9608-c13c6ed83648",
   "metadata": {},
   "source": [
    "To prove these are the same, let's first use the `diff` program to compare them: "
   ]
  },
  {
   "cell_type": "code",
   "execution_count": null,
   "id": "4f7e8b0e-5d3e-421b-af09-be3fa71c48d0",
   "metadata": {
    "tags": [
     "remove-input"
    ]
   },
   "outputs": [],
   "source": [
    "bash.run(\"echo \\\"diff 1\\\" ;  diff README.md rm2\")"
   ]
  },
  {
   "cell_type": "markdown",
   "id": "733724f3-f226-4b6a-9926-2042f09529d0",
   "metadata": {},
   "source": [
    "We can see that there is no difference between the files, since `diff` produces no output. But just to be sure, let's append a string to the end of the copy (i.e., echo \"Hello class\" >> rm2) and use the `diff` program to compare them again. \n"
   ]
  },
  {
   "cell_type": "code",
   "execution_count": null,
   "id": "2ab18fc5-7731-4304-9886-ba2b41f21e60",
   "metadata": {
    "tags": [
     "remove-input"
    ]
   },
   "outputs": [],
   "source": [
    "bash.run(\"echo \\\"Hello class\\\" >> rm2 ; echo \\\"diff 2\\\"; diff README.md rm2\")"
   ]
  },
  {
   "cell_type": "markdown",
   "id": "3cc8788c-e3b7-4321-93f3-e0b81199347c",
   "metadata": {},
   "source": [
    "And here we see that the only difference is the line we just appended to the copy of the original `README.md` file. "
   ]
  }
 ],
 "metadata": {
  "kernelspec": {
   "display_name": "Python 3.8.16 ('base')",
   "language": "python",
   "name": "python3"
  },
  "language_info": {
   "codemirror_mode": {
    "name": "ipython",
    "version": 3
   },
   "file_extension": ".py",
   "mimetype": "text/x-python",
   "name": "python",
   "nbconvert_exporter": "python",
   "pygments_lexer": "ipython3",
   "version": "3.8.16"
  },
  "vscode": {
   "interpreter": {
    "hash": "f4e3c63a28d2eadc36e3bba0725a6dea388233dd4d06cf5319c6ed40df7370ac"
   }
  }
 },
 "nbformat": 4,
 "nbformat_minor": 5
}
