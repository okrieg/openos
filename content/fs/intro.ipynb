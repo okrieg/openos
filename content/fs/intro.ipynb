{
 "cells": [
  {
   "cell_type": "markdown",
   "id": "6c62fe81-da53-436f-bc07-ce1030d71804",
   "metadata": {},
   "source": [
    "(cont:fs:intro)= \n",
    "# Introduction\n",
    "\n",
    "The power of Unix comes from the fundamental idea that [everything is a file](cont:gs:abstractions:file) or really more accurately a stream.  However, in many cases we want to store data persistently on disks and in that case file systems provide that abstraction, and, as we will see, a richer set of abstractions.  \n",
    "\n",
    "We first describe this [rich interface](cont:fs:interface) Unix (and many similar systems) require of file systems.  We then discuss the [ugly hardware](cont:fs:disks) abstractions that needs to be transformed by file systems into this interface. \n",
    "\n",
    "After describing how you get to the file system [on disk](cont:fs:layout), the next four chapters describe key file system design issues, namely how to: 1)[keep track of the blocks used in a file](fs:dl_track_used), 2)[keep track of the free blocks](fs:dl_track_free), 3) [maintain the name space](fs:dl_name), and 4) [deal with failures](fs:dl_failures).\n",
    "\n",
    "The final two chapters [provide examples of real file systems](fs:dl_ex_exx) and [discuss what runs in the kernel, and the VFS layer unix file systems have](cont:fs:kernel).\n",
    "\n"
   ]
  }
 ],
 "metadata": {
  "kernelspec": {
   "display_name": "Python 3.10.0 64-bit",
   "language": "python",
   "name": "python3"
  },
  "language_info": {
   "codemirror_mode": {
    "name": "ipython",
    "version": 3
   },
   "file_extension": ".py",
   "mimetype": "text/x-python",
   "name": "python",
   "nbconvert_exporter": "python",
   "pygments_lexer": "ipython3",
   "version": "3.10.0"
  },
  "vscode": {
   "interpreter": {
    "hash": "98590ff4fe04c8543246b2a01debd3de3c5ca9b666f43f1fa87d5110c692004c"
   }
  }
 },
 "nbformat": 4,
 "nbformat_minor": 5
}
